{
 "cells": [
  {
   "cell_type": "code",
   "execution_count": 94,
   "id": "196b55dc-c807-4d14-aad0-df67dd2a4be5",
   "metadata": {},
   "outputs": [],
   "source": [
    "import numpy as np\n",
    "import pandas as pd\n",
    "import matplotlib.pyplot as plt\n",
    "import seaborn as sns\n",
    "from scipy.stats import shapiro\n",
    "from scipy import stats"
   ]
  },
  {
   "cell_type": "code",
   "execution_count": 95,
   "id": "4f07ae59-caaf-4b31-91a9-3ec9adcc767e",
   "metadata": {},
   "outputs": [],
   "source": [
    "data =pd.read_excel(\"techgear_sales.xlsx\")"
   ]
  },
  {
   "cell_type": "code",
   "execution_count": 96,
   "id": "2aa0fbc1-d8b2-4192-acaa-369be3a758f3",
   "metadata": {},
   "outputs": [
    {
     "data": {
      "text/html": [
       "<div>\n",
       "<style scoped>\n",
       "    .dataframe tbody tr th:only-of-type {\n",
       "        vertical-align: middle;\n",
       "    }\n",
       "\n",
       "    .dataframe tbody tr th {\n",
       "        vertical-align: top;\n",
       "    }\n",
       "\n",
       "    .dataframe thead th {\n",
       "        text-align: right;\n",
       "    }\n",
       "</style>\n",
       "<table border=\"1\" class=\"dataframe\">\n",
       "  <thead>\n",
       "    <tr style=\"text-align: right;\">\n",
       "      <th></th>\n",
       "      <th>purchase_amount</th>\n",
       "      <th>customer_age</th>\n",
       "      <th>promo_period</th>\n",
       "      <th>purchase_category</th>\n",
       "    </tr>\n",
       "  </thead>\n",
       "  <tbody>\n",
       "    <tr>\n",
       "      <th>0</th>\n",
       "      <td>16.257116</td>\n",
       "      <td>46</td>\n",
       "      <td>1</td>\n",
       "      <td>Accessories</td>\n",
       "    </tr>\n",
       "    <tr>\n",
       "      <th>1</th>\n",
       "      <td>16.864348</td>\n",
       "      <td>40</td>\n",
       "      <td>1</td>\n",
       "      <td>Accessories</td>\n",
       "    </tr>\n",
       "    <tr>\n",
       "      <th>2</th>\n",
       "      <td>17.356663</td>\n",
       "      <td>36</td>\n",
       "      <td>1</td>\n",
       "      <td>Accessories</td>\n",
       "    </tr>\n",
       "    <tr>\n",
       "      <th>3</th>\n",
       "      <td>17.598137</td>\n",
       "      <td>43</td>\n",
       "      <td>1</td>\n",
       "      <td>Accessories</td>\n",
       "    </tr>\n",
       "    <tr>\n",
       "      <th>4</th>\n",
       "      <td>17.677614</td>\n",
       "      <td>40</td>\n",
       "      <td>1</td>\n",
       "      <td>Accessories</td>\n",
       "    </tr>\n",
       "  </tbody>\n",
       "</table>\n",
       "</div>"
      ],
      "text/plain": [
       "   purchase_amount  customer_age  promo_period purchase_category\n",
       "0        16.257116            46             1       Accessories\n",
       "1        16.864348            40             1       Accessories\n",
       "2        17.356663            36             1       Accessories\n",
       "3        17.598137            43             1       Accessories\n",
       "4        17.677614            40             1       Accessories"
      ]
     },
     "execution_count": 96,
     "metadata": {},
     "output_type": "execute_result"
    }
   ],
   "source": [
    "df = data.copy()\n",
    "df.head()"
   ]
  },
  {
   "cell_type": "code",
   "execution_count": 97,
   "id": "82da13af-3f0a-4cff-95b9-0bb4dcf0ca64",
   "metadata": {},
   "outputs": [
    {
     "name": "stdout",
     "output_type": "stream",
     "text": [
      "<class 'pandas.core.frame.DataFrame'>\n",
      "RangeIndex: 1000 entries, 0 to 999\n",
      "Data columns (total 4 columns):\n",
      " #   Column             Non-Null Count  Dtype  \n",
      "---  ------             --------------  -----  \n",
      " 0   purchase_amount    1000 non-null   float64\n",
      " 1   customer_age       1000 non-null   int64  \n",
      " 2   promo_period       1000 non-null   int64  \n",
      " 3   purchase_category  1000 non-null   object \n",
      "dtypes: float64(1), int64(2), object(1)\n",
      "memory usage: 31.4+ KB\n"
     ]
    }
   ],
   "source": [
    "df.info()"
   ]
  },
  {
   "cell_type": "code",
   "execution_count": 98,
   "id": "36b3369d-3821-43d8-b712-40734aeba1d8",
   "metadata": {},
   "outputs": [
    {
     "data": {
      "text/plain": [
       "(1000, 4)"
      ]
     },
     "execution_count": 98,
     "metadata": {},
     "output_type": "execute_result"
    }
   ],
   "source": [
    "df.shape"
   ]
  },
  {
   "cell_type": "code",
   "execution_count": 99,
   "id": "92db0303-24fe-4b6f-b8e3-1464d4cb246a",
   "metadata": {},
   "outputs": [
    {
     "data": {
      "text/html": [
       "<div>\n",
       "<style scoped>\n",
       "    .dataframe tbody tr th:only-of-type {\n",
       "        vertical-align: middle;\n",
       "    }\n",
       "\n",
       "    .dataframe tbody tr th {\n",
       "        vertical-align: top;\n",
       "    }\n",
       "\n",
       "    .dataframe thead th {\n",
       "        text-align: right;\n",
       "    }\n",
       "</style>\n",
       "<table border=\"1\" class=\"dataframe\">\n",
       "  <thead>\n",
       "    <tr style=\"text-align: right;\">\n",
       "      <th></th>\n",
       "      <th>purchase_amount</th>\n",
       "      <th>customer_age</th>\n",
       "      <th>promo_period</th>\n",
       "    </tr>\n",
       "  </thead>\n",
       "  <tbody>\n",
       "    <tr>\n",
       "      <th>count</th>\n",
       "      <td>1000.000000</td>\n",
       "      <td>1000.000000</td>\n",
       "      <td>1000.000000</td>\n",
       "    </tr>\n",
       "    <tr>\n",
       "      <th>mean</th>\n",
       "      <td>713.061822</td>\n",
       "      <td>35.293000</td>\n",
       "      <td>0.313000</td>\n",
       "    </tr>\n",
       "    <tr>\n",
       "      <th>std</th>\n",
       "      <td>468.319453</td>\n",
       "      <td>9.378438</td>\n",
       "      <td>0.463946</td>\n",
       "    </tr>\n",
       "    <tr>\n",
       "      <th>min</th>\n",
       "      <td>16.257116</td>\n",
       "      <td>18.000000</td>\n",
       "      <td>0.000000</td>\n",
       "    </tr>\n",
       "    <tr>\n",
       "      <th>25%</th>\n",
       "      <td>151.316628</td>\n",
       "      <td>29.000000</td>\n",
       "      <td>0.000000</td>\n",
       "    </tr>\n",
       "    <tr>\n",
       "      <th>50%</th>\n",
       "      <td>770.891732</td>\n",
       "      <td>35.000000</td>\n",
       "      <td>0.000000</td>\n",
       "    </tr>\n",
       "    <tr>\n",
       "      <th>75%</th>\n",
       "      <td>1045.788433</td>\n",
       "      <td>42.000000</td>\n",
       "      <td>1.000000</td>\n",
       "    </tr>\n",
       "    <tr>\n",
       "      <th>max</th>\n",
       "      <td>1927.872475</td>\n",
       "      <td>66.000000</td>\n",
       "      <td>1.000000</td>\n",
       "    </tr>\n",
       "  </tbody>\n",
       "</table>\n",
       "</div>"
      ],
      "text/plain": [
       "       purchase_amount  customer_age  promo_period\n",
       "count      1000.000000   1000.000000   1000.000000\n",
       "mean        713.061822     35.293000      0.313000\n",
       "std         468.319453      9.378438      0.463946\n",
       "min          16.257116     18.000000      0.000000\n",
       "25%         151.316628     29.000000      0.000000\n",
       "50%         770.891732     35.000000      0.000000\n",
       "75%        1045.788433     42.000000      1.000000\n",
       "max        1927.872475     66.000000      1.000000"
      ]
     },
     "execution_count": 99,
     "metadata": {},
     "output_type": "execute_result"
    }
   ],
   "source": [
    "df.describe()"
   ]
  },
  {
   "cell_type": "code",
   "execution_count": 100,
   "id": "0f9f6c71-a849-4cc5-856b-783322283366",
   "metadata": {},
   "outputs": [
    {
     "data": {
      "text/plain": [
       "<Axes: xlabel='purchase_amount', ylabel='Count'>"
      ]
     },
     "execution_count": 100,
     "metadata": {},
     "output_type": "execute_result"
    },
    {
     "data": {
      "image/png": "[encoded data removed]",
      "text/plain": [
       "<Figure size 640x480 with 1 Axes>"
      ]
     },
     "metadata": {},
     "output_type": "display_data"
    }
   ],
   "source": [
    "sns.histplot(df[\"purchase_amount\"], bins=20)"
   ]
  },
  {
   "cell_type": "code",
   "execution_count": 101,
   "id": "f4fb6c68-61e5-4f64-bfbc-755a71ee032b",
   "metadata": {},
   "outputs": [
    {
     "data": {
      "text/plain": [
       "promo_period\n",
       "0    687\n",
       "1    313\n",
       "Name: purchase_amount, dtype: int64"
      ]
     },
     "execution_count": 101,
     "metadata": {},
     "output_type": "execute_result"
    }
   ],
   "source": [
    "df.groupby(\"promo_period\")[\"purchase_amount\"].count()"
   ]
  },
  {
   "cell_type": "code",
   "execution_count": 102,
   "id": "6927d05c-f43c-49a6-8800-706ef4d354ec",
   "metadata": {},
   "outputs": [
    {
     "data": {
      "text/plain": [
       "promo_period\n",
       "0    227\n",
       "1     62\n",
       "Name: count, dtype: int64"
      ]
     },
     "execution_count": 102,
     "metadata": {},
     "output_type": "execute_result"
    }
   ],
   "source": [
    "plus_1000 = df[df[\"purchase_amount\"]>1000][\"promo_period\"].value_counts()\n",
    "plus_1000"
   ]
  },
  {
   "cell_type": "code",
   "execution_count": 103,
   "id": "6a93301e-bc9b-45c3-b9d7-1b367605b63b",
   "metadata": {},
   "outputs": [
    {
     "data": {
      "text/plain": [
       "purchase_amount      289\n",
       "customer_age         289\n",
       "promo_period         289\n",
       "purchase_category    289\n",
       "dtype: int64"
      ]
     },
     "execution_count": 103,
     "metadata": {},
     "output_type": "execute_result"
    }
   ],
   "source": [
    "plus_1000_all = df[df[\"purchase_amount\"]>1000].count()\n",
    "plus_1000_all"
   ]
  },
  {
   "cell_type": "code",
   "execution_count": 104,
   "id": "af26d4ea-bd88-47f6-b048-a5cb00f97148",
   "metadata": {},
   "outputs": [
    {
     "name": "stdout",
     "output_type": "stream",
     "text": [
      "P-Value 5.152761364712451e-20\n"
     ]
    }
   ],
   "source": [
    "# Perform the Shapiro-Wilk test\n",
    "stat, p_value = shapiro(df['purchase_amount'])\n",
    "\n",
    "# Return test statistic and p-value\n",
    "stat, p_value\n",
    "\n",
    "print(f\"P-Value {p_value}\")"
   ]
  },
  {
   "cell_type": "code",
   "execution_count": 113,
   "id": "6a177c40-7e16-4669-8a25-26e42c70368c",
   "metadata": {},
   "outputs": [
    {
     "data": {
      "text/html": [
       "<div>\n",
       "<style scoped>\n",
       "    .dataframe tbody tr th:only-of-type {\n",
       "        vertical-align: middle;\n",
       "    }\n",
       "\n",
       "    .dataframe tbody tr th {\n",
       "        vertical-align: top;\n",
       "    }\n",
       "\n",
       "    .dataframe thead th {\n",
       "        text-align: right;\n",
       "    }\n",
       "</style>\n",
       "<table border=\"1\" class=\"dataframe\">\n",
       "  <thead>\n",
       "    <tr style=\"text-align: right;\">\n",
       "      <th></th>\n",
       "      <th>purchase_amount</th>\n",
       "      <th>customer_age</th>\n",
       "      <th>promo_period</th>\n",
       "      <th>purchase_category</th>\n",
       "      <th>age_group</th>\n",
       "    </tr>\n",
       "  </thead>\n",
       "  <tbody>\n",
       "    <tr>\n",
       "      <th>0</th>\n",
       "      <td>16.257116</td>\n",
       "      <td>46</td>\n",
       "      <td>1</td>\n",
       "      <td>Accessories</td>\n",
       "      <td>46+</td>\n",
       "    </tr>\n",
       "    <tr>\n",
       "      <th>1</th>\n",
       "      <td>16.864348</td>\n",
       "      <td>40</td>\n",
       "      <td>1</td>\n",
       "      <td>Accessories</td>\n",
       "      <td>36-45</td>\n",
       "    </tr>\n",
       "    <tr>\n",
       "      <th>2</th>\n",
       "      <td>17.356663</td>\n",
       "      <td>36</td>\n",
       "      <td>1</td>\n",
       "      <td>Accessories</td>\n",
       "      <td>36-45</td>\n",
       "    </tr>\n",
       "    <tr>\n",
       "      <th>3</th>\n",
       "      <td>17.598137</td>\n",
       "      <td>43</td>\n",
       "      <td>1</td>\n",
       "      <td>Accessories</td>\n",
       "      <td>36-45</td>\n",
       "    </tr>\n",
       "    <tr>\n",
       "      <th>4</th>\n",
       "      <td>17.677614</td>\n",
       "      <td>40</td>\n",
       "      <td>1</td>\n",
       "      <td>Accessories</td>\n",
       "      <td>36-45</td>\n",
       "    </tr>\n",
       "  </tbody>\n",
       "</table>\n",
       "</div>"
      ],
      "text/plain": [
       "   purchase_amount  customer_age  promo_period purchase_category age_group\n",
       "0        16.257116            46             1       Accessories       46+\n",
       "1        16.864348            40             1       Accessories     36-45\n",
       "2        17.356663            36             1       Accessories     36-45\n",
       "3        17.598137            43             1       Accessories     36-45\n",
       "4        17.677614            40             1       Accessories     36-45"
      ]
     },
     "execution_count": 113,
     "metadata": {},
     "output_type": "execute_result"
    }
   ],
   "source": [
    "# Define age group bins and labels\n",
    "bins = [17, 25, 35, 45, float('inf')]\n",
    "labels = ['18-25', '26-35', '36-45', '46+']\n",
    "\n",
    "# Create age groups\n",
    "df['age_group'] = pd.cut(df['customer_age'], bins=bins, labels=labels, right=True)\n",
    "df.head()"
   ]
  },
  {
   "cell_type": "code",
   "execution_count": 119,
   "id": "45e6abfa-0211-4aba-a1ab-46c727cc9a26",
   "metadata": {},
   "outputs": [
    {
     "name": "stdout",
     "output_type": "stream",
     "text": [
      "age_group\n",
      "18-25    781.941710\n",
      "26-35    726.627558\n",
      "36-45    703.935997\n",
      "46+      618.887435\n",
      "Name: purchase_amount, dtype: float64\n"
     ]
    },
    {
     "name": "stderr",
     "output_type": "stream",
     "text": [
      "C:\\Users\\Administrator\\AppData\\Local\\Temp\\ipykernel_33588\\4048157437.py:2: FutureWarning: The default of observed=False is deprecated and will be changed to True in a future version of pandas. Pass observed=False to retain current behavior or observed=True to adopt the future default and silence this warning.\n",
      "  mean_purchase_per_group = df.groupby('age_group')['purchase_amount'].mean()\n"
     ]
    }
   ],
   "source": [
    "mean_purchase_per_group = df.groupby('age_group')['purchase_amount'].mean()\n",
    "print(mean_purchase_per_group)"
   ]
  },
  {
   "cell_type": "code",
   "execution_count": 118,
   "id": "e65b28a2-c98b-4f19-b038-8e357082f160",
   "metadata": {},
   "outputs": [
    {
     "name": "stdout",
     "output_type": "stream",
     "text": [
      "p_value : 0.023819200086012203\n"
     ]
    }
   ],
   "source": [
    "# Perform one-way ANOVA test\n",
    "groups = [df[df['age_group'] == age]['purchase_amount'].dropna() for age in labels]\n",
    "anova_stat, p_value = stats.f_oneway(*groups)\n",
    "\n",
    "print(f\"p_value : {p_value}\")"
   ]
  },
  {
   "cell_type": "code",
   "execution_count": 109,
   "id": "3a9d39f6-aa64-4dbb-8976-9cc4b8af2ba2",
   "metadata": {},
   "outputs": [],
   "source": [
    "df.to_csv('test_bin_2.csv')"
   ]
  },
  {
   "cell_type": "code",
   "execution_count": 25,
   "id": "e3d3f8a1-0546-46e8-9c6c-defbe150d507",
   "metadata": {},
   "outputs": [],
   "source": [
    "def age_category(age):\n",
    "    if 18 <= age <= 25:\n",
    "        return \"18-25\"\n",
    "    elif 25 < age <= 35:\n",
    "        return \"26-35\"\n",
    "    elif 35 < age <= 45:\n",
    "        return \"36-45\"\n",
    "    else:\n",
    "        return \"46+\"\n",
    "df[\"age_group\"] = df[\"customer_age\"].apply(age_category)"
   ]
  },
  {
   "cell_type": "code",
   "execution_count": 26,
   "id": "21ee8adb-b52c-4e44-b31a-39296d65591f",
   "metadata": {},
   "outputs": [
    {
     "data": {
      "text/html": [
       "<div>\n",
       "<style scoped>\n",
       "    .dataframe tbody tr th:only-of-type {\n",
       "        vertical-align: middle;\n",
       "    }\n",
       "\n",
       "    .dataframe tbody tr th {\n",
       "        vertical-align: top;\n",
       "    }\n",
       "\n",
       "    .dataframe thead th {\n",
       "        text-align: right;\n",
       "    }\n",
       "</style>\n",
       "<table border=\"1\" class=\"dataframe\">\n",
       "  <thead>\n",
       "    <tr style=\"text-align: right;\">\n",
       "      <th></th>\n",
       "      <th>purchase_amount</th>\n",
       "      <th>customer_age</th>\n",
       "      <th>promo_period</th>\n",
       "      <th>purchase_category</th>\n",
       "      <th>age_group</th>\n",
       "    </tr>\n",
       "  </thead>\n",
       "  <tbody>\n",
       "    <tr>\n",
       "      <th>0</th>\n",
       "      <td>16.257116</td>\n",
       "      <td>46</td>\n",
       "      <td>1</td>\n",
       "      <td>Accessories</td>\n",
       "      <td>46+</td>\n",
       "    </tr>\n",
       "    <tr>\n",
       "      <th>1</th>\n",
       "      <td>16.864348</td>\n",
       "      <td>40</td>\n",
       "      <td>1</td>\n",
       "      <td>Accessories</td>\n",
       "      <td>36-45</td>\n",
       "    </tr>\n",
       "    <tr>\n",
       "      <th>2</th>\n",
       "      <td>17.356663</td>\n",
       "      <td>36</td>\n",
       "      <td>1</td>\n",
       "      <td>Accessories</td>\n",
       "      <td>36-45</td>\n",
       "    </tr>\n",
       "    <tr>\n",
       "      <th>3</th>\n",
       "      <td>17.598137</td>\n",
       "      <td>43</td>\n",
       "      <td>1</td>\n",
       "      <td>Accessories</td>\n",
       "      <td>36-45</td>\n",
       "    </tr>\n",
       "    <tr>\n",
       "      <th>4</th>\n",
       "      <td>17.677614</td>\n",
       "      <td>40</td>\n",
       "      <td>1</td>\n",
       "      <td>Accessories</td>\n",
       "      <td>36-45</td>\n",
       "    </tr>\n",
       "  </tbody>\n",
       "</table>\n",
       "</div>"
      ],
      "text/plain": [
       "   purchase_amount  customer_age  promo_period purchase_category age_group\n",
       "0        16.257116            46             1       Accessories       46+\n",
       "1        16.864348            40             1       Accessories     36-45\n",
       "2        17.356663            36             1       Accessories     36-45\n",
       "3        17.598137            43             1       Accessories     36-45\n",
       "4        17.677614            40             1       Accessories     36-45"
      ]
     },
     "execution_count": 26,
     "metadata": {},
     "output_type": "execute_result"
    }
   ],
   "source": [
    "df.head()"
   ]
  },
  {
   "cell_type": "code",
   "execution_count": 27,
   "id": "3aba1b88-7749-4713-8f96-d856fbb75001",
   "metadata": {},
   "outputs": [
    {
     "data": {
      "text/plain": [
       "age_group\n",
       "18-25    781.941710\n",
       "26-35    726.627558\n",
       "36-45    703.935997\n",
       "46+      618.887435\n",
       "Name: purchase_amount, dtype: float64"
      ]
     },
     "execution_count": 27,
     "metadata": {},
     "output_type": "execute_result"
    }
   ],
   "source": [
    "df.groupby(\"age_group\")[\"purchase_amount\"].mean()"
   ]
  },
  {
   "cell_type": "code",
   "execution_count": 36,
   "id": "d22eda0e-f340-49ae-9665-99f025bcf8bf",
   "metadata": {},
   "outputs": [
    {
     "data": {
      "text/plain": [
       "age_group\n",
       "18-25    1652.976876\n",
       "26-35    1927.872475\n",
       "36-45    1877.281350\n",
       "46+      1595.452184\n",
       "Name: purchase_amount, dtype: float64"
      ]
     },
     "execution_count": 36,
     "metadata": {},
     "output_type": "execute_result"
    }
   ],
   "source": [
    "df.groupby(\"age_group\")[\"purchase_amount\"].max()"
   ]
  },
  {
   "cell_type": "code",
   "execution_count": 37,
   "id": "2d9a445d-cca1-415c-9fa6-dd4b131e7d16",
   "metadata": {},
   "outputs": [
    {
     "data": {
      "text/plain": [
       "age_group\n",
       "18-25    162\n",
       "26-35    355\n",
       "36-45    347\n",
       "46+      136\n",
       "Name: purchase_amount, dtype: int64"
      ]
     },
     "execution_count": 37,
     "metadata": {},
     "output_type": "execute_result"
    }
   ],
   "source": [
    "df.groupby(\"age_group\")[\"purchase_amount\"].count()"
   ]
  },
  {
   "cell_type": "code",
   "execution_count": 35,
   "id": "a303f825-cc0d-461a-a5e6-1fbfe6bf98d0",
   "metadata": {},
   "outputs": [
    {
     "data": {
      "text/plain": [
       "np.float64(1652.97687560349)"
      ]
     },
     "execution_count": 35,
     "metadata": {},
     "output_type": "execute_result"
    }
   ],
   "source": [
    "df[df[\"age_group\"]== \"18-25\"][\"purchase_amount\"].max()"
   ]
  },
  {
   "cell_type": "code",
   "execution_count": 29,
   "id": "802d3aa2-b80c-4751-93dc-f364703fcb64",
   "metadata": {},
   "outputs": [
    {
     "data": {
      "text/plain": [
       "<Axes: xlabel='age_group', ylabel='purchase_amount'>"
      ]
     },
     "execution_count": 29,
     "metadata": {},
     "output_type": "execute_result"
    },
    {
     "data": {
      "image/png": "[encoded data removed]",
      "text/plain": [
       "<Figure size 640x480 with 1 Axes>"
      ]
     },
     "metadata": {},
     "output_type": "display_data"
    }
   ],
   "source": [
    "sns.boxplot(x = df[\"age_group\"], y = df[\"purchase_amount\"])"
   ]
  },
  {
   "cell_type": "code",
   "execution_count": 33,
   "id": "abec4788-5f64-4ae2-9de3-fc4c71f993cd",
   "metadata": {},
   "outputs": [
    {
     "name": "stderr",
     "output_type": "stream",
     "text": [
      "C:\\ProgramData\\anaconda3\\envs\\py3_10\\lib\\site-packages\\seaborn\\categorical.py:3399: UserWarning: 10.1% of the points cannot be placed; you may want to decrease the size of the markers or use stripplot.\n",
      "  warnings.warn(msg, UserWarning)\n",
      "C:\\ProgramData\\anaconda3\\envs\\py3_10\\lib\\site-packages\\seaborn\\categorical.py:3399: UserWarning: 11.0% of the points cannot be placed; you may want to decrease the size of the markers or use stripplot.\n",
      "  warnings.warn(msg, UserWarning)\n"
     ]
    },
    {
     "data": {
      "text/plain": [
       "<Axes: xlabel='age_group', ylabel='purchase_amount'>"
      ]
     },
     "execution_count": 33,
     "metadata": {},
     "output_type": "execute_result"
    },
    {
     "name": "stderr",
     "output_type": "stream",
     "text": [
      "C:\\ProgramData\\anaconda3\\envs\\py3_10\\lib\\site-packages\\seaborn\\categorical.py:3399: UserWarning: 15.3% of the points cannot be placed; you may want to decrease the size of the markers or use stripplot.\n",
      "  warnings.warn(msg, UserWarning)\n",
      "C:\\ProgramData\\anaconda3\\envs\\py3_10\\lib\\site-packages\\seaborn\\categorical.py:3399: UserWarning: 16.6% of the points cannot be placed; you may want to decrease the size of the markers or use stripplot.\n",
      "  warnings.warn(msg, UserWarning)\n"
     ]
    },
    {
     "data": {
      "image/png": "[encoded data removed]",
      "text/plain": [
       "<Figure size 640x480 with 1 Axes>"
      ]
     },
     "metadata": {},
     "output_type": "display_data"
    }
   ],
   "source": [
    "sns.swarmplot(x = df[\"age_group\"], y = df[\"purchase_amount\"])"
   ]
  },
  {
   "cell_type": "code",
   "execution_count": null,
   "id": "5c79a8f5-0fa0-4ace-aa76-943606c46a5a",
   "metadata": {},
   "outputs": [],
   "source": []
  },
  {
   "cell_type": "code",
   "execution_count": null,
   "id": "466b2377-31c3-4d9b-98da-206d49450596",
   "metadata": {},
   "outputs": [],
   "source": []
  },
  {
   "cell_type": "code",
   "execution_count": null,
   "id": "9eeac043-9c0e-408a-b8cb-b704029bb714",
   "metadata": {},
   "outputs": [],
   "source": []
  },
  {
   "cell_type": "code",
   "execution_count": null,
   "id": "4247eb42-acf6-4d35-b803-844f74fab24f",
   "metadata": {},
   "outputs": [],
   "source": []
  },
  {
   "cell_type": "code",
   "execution_count": null,
   "id": "ac317c9e-13ff-45f9-9975-f4f83769e07c",
   "metadata": {},
   "outputs": [],
   "source": []
  },
  {
   "cell_type": "code",
   "execution_count": null,
   "id": "c41b0484-494e-4330-b60b-61fc0d88b613",
   "metadata": {},
   "outputs": [],
   "source": []
  }
 ],
 "metadata": {
  "kernelspec": {
   "display_name": "Python 3 (ipykernel)",
   "language": "python",
   "name": "python3"
  },
  "language_info": {
   "codemirror_mode": {
    "name": "ipython",
    "version": 3
   },
   "file_extension": ".py",
   "mimetype": "text/x-python",
   "name": "python",
   "nbconvert_exporter": "python",
   "pygments_lexer": "ipython3",
   "version": "3.9.21"
  }
 },
 "nbformat": 4,
 "nbformat_minor": 5
}
